{
 "cells": [
  {
   "cell_type": "markdown",
   "id": "8ebdba89",
   "metadata": {},
   "source": [
    "# 1. der taschenrechner"
   ]
  },
  {
   "cell_type": "markdown",
   "id": "d914a6db",
   "metadata": {},
   "source": [
    "### 1.1 import aller nötigen Zusätze"
   ]
  },
  {
   "cell_type": "code",
   "execution_count": 2,
   "id": "809b08fa",
   "metadata": {},
   "outputs": [],
   "source": [
    "import tkinter\n",
    "from tkinter import BOTH, END, ANCHOR, RIGHT, DISABLED\n",
    "from tkinter import IntVar, StringVar, ttk \n",
    "from PIL import ImageTk, Image"
   ]
  },
  {
   "cell_type": "markdown",
   "id": "a566b012",
   "metadata": {},
   "source": [
    "### 1.2 alle fonts und color setzen"
   ]
  },
  {
   "cell_type": "code",
   "execution_count": 3,
   "id": "4f945192",
   "metadata": {},
   "outputs": [],
   "source": [
    "#set font\n",
    "my_font = ('Times New Roman', 15)\n",
    "display_font = ('Times New Roman', 25)\n",
    "\n",
    "#set color \n",
    "root_color = '#91A57E'\n",
    "first_buttons = '#7E9971'\n",
    "green_button = '#588157'\n",
    "figure_button = '#344E41'\n",
    "input_button = '#DAD7CD'"
   ]
  },
  {
   "cell_type": "markdown",
   "id": "6ebda5e7",
   "metadata": {},
   "source": [
    "### 1.3 define funktionen"
   ]
  },
  {
   "cell_type": "code",
   "execution_count": 4,
   "id": "da673a0e",
   "metadata": {},
   "outputs": [],
   "source": [
    "def submit_number(number):\n",
    "\t'''put the number clicked on the entry field'''\n",
    "\tinput_field.insert(END, number)\n",
    "\t''' if decimal was pressed disable this button '''\n",
    "\tif \",\" in input_field.get():\n",
    "\t\tkomma_button.config(state = DISABLED)\n"
   ]
  },
  {
   "cell_type": "code",
   "execution_count": 5,
   "id": "10325f33",
   "metadata": {},
   "outputs": [],
   "source": [
    "def operate(operator):\n",
    "\t''' store the operator of the expression and the operation be used'''\n",
    "\tglobal first_number\n",
    "\tglobal operation\t\n",
    "\n",
    "\n",
    "\t# geht the operator pressed and teh current value of the display. this is the first number in the calculation\n",
    "\toperator = operator\n",
    "\tfirst_number = input_field.get()\n",
    "\n",
    "\t#delete first number from entry display\n",
    "\tdisplay.delete(0, END)\t\n",
    "\n",
    "\t#disable all operator buttons until equal or clear is pressed \n",
    "\tminus_button.config(state = DISABLED)\n",
    "\tmal_button.config(state = DISABLED)\n",
    "\tplus_button.config(state = DISABLED)\t\n",
    "\tgeteilt_button.config(state = DISABLED)\n",
    "\teins_x_button.config(state = DISABLED)\n",
    "\txhochn_button.config(state = DISABLED)\n",
    "\thoch2_button.config(state = DISABLED)"
   ]
  },
  {
   "cell_type": "markdown",
   "id": "94734539",
   "metadata": {},
   "source": [
    "### 1.4 open tkinter"
   ]
  },
  {
   "cell_type": "code",
   "execution_count": 6,
   "id": "aaaa4470",
   "metadata": {},
   "outputs": [
    {
     "data": {
      "text/plain": [
       "''"
      ]
     },
     "execution_count": 6,
     "metadata": {},
     "output_type": "execute_result"
    }
   ],
   "source": [
    "#open tkinter\n",
    "root = tkinter.Tk()\n",
    "root.title('bunny checker')\n",
    "root.geometry('270x350')\n",
    "root.iconbitmap('ente.ico')\n",
    "root.config(bg = root_color)\n",
    "root.resizable(0,0)\n"
   ]
  },
  {
   "cell_type": "markdown",
   "id": "f5532d09",
   "metadata": {},
   "source": [
    "### 1.5 set the frames "
   ]
  },
  {
   "cell_type": "code",
   "execution_count": 7,
   "id": "c8671a16",
   "metadata": {},
   "outputs": [],
   "source": [
    "# set first frame\n",
    "first_frame = tkinter.Frame(root, bg = root_color)\n",
    "first_frame.pack( padx = 2, pady = (5,10))\n",
    "\n",
    "#set second frame \n",
    "second_frame = tkinter.Frame(root, bg = root_color)\n",
    "second_frame.pack(padx = 2, pady = 5)\n"
   ]
  },
  {
   "cell_type": "markdown",
   "id": "7d2f4877",
   "metadata": {},
   "source": [
    "###  1.6 set the input fields "
   ]
  },
  {
   "cell_type": "code",
   "execution_count": 8,
   "id": "d7825adf",
   "metadata": {},
   "outputs": [],
   "source": [
    "# make input field\n",
    "input_field = tkinter.Entry(first_frame, bg = input_button, width = 50, font = display_font, borderwidth = 3, justify = RIGHT)\n",
    "input_field.pack(fill = BOTH, pady = 5, padx = 5)\n",
    "\n",
    "# set the clear and quit button\n",
    "clear_button = tkinter.Button(second_frame, bg = first_buttons, text = 'Clear', font = my_font, borderwidth = 3)\n",
    "clear_button.grid(row = 0, column = 0, pady = 1, sticky = 'WE', columnspan = 2)\n",
    "\n",
    "quit_button = tkinter.Button(second_frame, bg = first_buttons, text = ' Quit ', font = my_font, borderwidth = 3, command = root.destroy)\n",
    "quit_button.grid(row = 0, column = 2, pady = 1, sticky = 'WE', columnspan = 2, ipadx = 2)\n",
    "\n",
    "# set all other buttons, hier funktioniert ipadx gar nicht. warum??\n",
    "eins_x_button = tkinter.Button(second_frame, bg = green_button, text = '1/x', font = my_font, borderwidth = 3,)\n",
    "eins_x_button.grid(row = 1, column = 0, pady = 1,sticky = 'WE', ipadx = 0)\n",
    "\n",
    "hoch2_button = tkinter.Button(second_frame, bg = green_button, text = ' x^2 ', font = my_font, borderwidth = 3)\n",
    "hoch2_button.grid(row = 1, column = 1, pady = 1,sticky = 'WE', ipadx = 0)\n",
    "\n",
    "xhochn_button = tkinter.Button(second_frame, bg = green_button, text = ' x^n ', font = my_font, borderwidth = 3)\n",
    "xhochn_button.grid(row = 1 , column = 2,pady = 1,sticky = 'WE', ipadx = 0)\n",
    "\n",
    "geteilt_button = tkinter.Button(second_frame, bg = green_button, text = ' / ', font = my_font, borderwidth = 3)\n",
    "geteilt_button.grid(row = 1, column = 3, pady = 1,sticky = 'WE', ipadx = 0)\n",
    "\n",
    "\n",
    "#wenn ich hier nicht ipdax nehme, dann hat ganze linke reihe mehr platz und es sieht ungleich aus. warum kann man \n",
    "# nicht in row 1 machen, wieso passt sich row 1 an, wenn ich doch row 2 ändere.\n",
    "sieben_button = tkinter.Button(second_frame, bg = figure_button, text = '7', font = my_font, borderwidth = 3 , command=lambda:submit_number(7))\n",
    "sieben_button.grid(row = 2, column = 0, pady = 1,sticky = 'WE', ipadx = 15)\n",
    "#submit_number\n",
    "\n",
    "acht_button = tkinter.Button(second_frame, bg = figure_button, text = '8', font = my_font, borderwidth = 3 ,command=lambda:submit_number(8))\n",
    "acht_button.grid(row = 2, column = 1, pady = 1,sticky = 'WE', ipadx = 15)\n",
    "\n",
    "neun_button = tkinter.Button(second_frame, bg = figure_button, text = '9', font = my_font, borderwidth = 3, command=lambda:submit_number(9))\n",
    "neun_button.grid(row = 2, column = 2, pady = 1,sticky = 'WE', ipadx = 15)\n",
    "\n",
    "mal_button = tkinter.Button(second_frame, bg = green_button, text = '*', font = my_font, borderwidth = 3)\n",
    "mal_button.grid(row = 2, column = 3, pady = 1,sticky = 'WE', ipadx = 15)\n",
    "\n",
    "\n",
    "vier_button = tkinter.Button(second_frame, bg = figure_button, text = '4', font = my_font, borderwidth = 3, command=lambda:submit_number(4))\n",
    "vier_button.grid(row = 3, column = 0, pady = 1,sticky = 'WE')\n",
    "\n",
    "fünf_button = tkinter.Button(second_frame, bg = figure_button, text = '5', font = my_font, borderwidth = 3, command=lambda:submit_number(5))\n",
    "fünf_button.grid(row = 3, column = 1, pady = 1,sticky = 'WE')\n",
    "\n",
    "sechs_button = tkinter.Button(second_frame, bg = figure_button, text = '6', font = my_font, borderwidth = 3, command=lambda:submit_number(3))\n",
    "sechs_button.grid(row = 3, column = 2, pady = 1,sticky = 'WE')\n",
    "\n",
    "minus_button = tkinter.Button(second_frame, bg = green_button, text = '-', font = my_font, borderwidth = 3)\n",
    "minus_button.grid(row = 3, column = 3, pady = 1,sticky = 'WE')\n",
    "\n",
    "\n",
    "eins_button = tkinter.Button(second_frame, bg = figure_button, text = '1', font = my_font, borderwidth = 3, command=lambda:submit_number(1))\n",
    "eins_button.grid(row = 4, column = 0, pady = 1,sticky = 'WE')\n",
    "\n",
    "zwei_button = tkinter.Button(second_frame, bg = figure_button, text = '2', font = my_font, borderwidth = 3, command=lambda:submit_number(2))\n",
    "zwei_button.grid(row = 4, column = 1, pady = 1,sticky = 'WE')\n",
    "\n",
    "drei_button = tkinter.Button(second_frame, bg = figure_button, text = '3', font = my_font, borderwidth = 3, command=lambda:submit_number(3))\n",
    "drei_button.grid(row = 4, column = 2, pady = 1,sticky = 'WE')\n",
    "\n",
    "plus_button = tkinter.Button(second_frame, bg = green_button, text = '+', font = my_font, borderwidth = 3)\n",
    "plus_button.grid(row = 4, column = 3, pady = 1,sticky = 'WE')\n",
    "\n",
    "\n",
    "komisch_button = tkinter.Button(second_frame, bg = figure_button, text = '-/+', font = my_font, borderwidth = 3)\n",
    "komisch_button.grid(row = 5, column = 0, pady = 1,sticky = 'WE')\n",
    "\n",
    "null_button = tkinter.Button(second_frame, bg = figure_button, text = '0', font = my_font, borderwidth = 3)\n",
    "null_button.grid(row = 5, column = 1, pady = 1, sticky = 'WE')\n",
    "\n",
    "komma_button = tkinter.Button(second_frame, bg = figure_button, text = ',', font = my_font, borderwidth = 3 , command=lambda:submit_number(','))\n",
    "komma_button.grid(row = 5, column = 2, pady = 1, sticky = 'WE')\n",
    "\n",
    "gleich_button = tkinter.Button(second_frame, bg = green_button, text = '=', font = my_font, borderwidth = 3)\n",
    "gleich_button.grid(row = 5, column = 3, pady = 1, sticky = 'WE')"
   ]
  },
  {
   "cell_type": "markdown",
   "id": "69268a3f",
   "metadata": {},
   "source": [
    "### 1.7 run the program "
   ]
  },
  {
   "cell_type": "code",
   "execution_count": 9,
   "id": "6405e450",
   "metadata": {},
   "outputs": [],
   "source": [
    "# run program \n",
    "root.mainloop()"
   ]
  },
  {
   "cell_type": "code",
   "execution_count": null,
   "id": "82a0684b",
   "metadata": {},
   "outputs": [],
   "source": []
  }
 ],
 "metadata": {
  "kernelspec": {
   "display_name": "Python 3 (ipykernel)",
   "language": "python",
   "name": "python3"
  },
  "language_info": {
   "codemirror_mode": {
    "name": "ipython",
    "version": 3
   },
   "file_extension": ".py",
   "mimetype": "text/x-python",
   "name": "python",
   "nbconvert_exporter": "python",
   "pygments_lexer": "ipython3",
   "version": "3.8.11"
  }
 },
 "nbformat": 4,
 "nbformat_minor": 5
}
